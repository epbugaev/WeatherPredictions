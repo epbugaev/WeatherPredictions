{
 "cells": [
  {
   "cell_type": "code",
   "execution_count": 1,
   "id": "562de70c-a78b-453a-b8ef-5036dd36a586",
   "metadata": {},
   "outputs": [],
   "source": [
    "import os\n",
    "import torch\n",
    "from torch import nn, einsum\n",
    "import numpy as np\n",
    "import matplotlib.pyplot as plt\n",
    "from einops import rearrange\n",
    "import torch.nn.functional as F\n",
    "import math\n",
    "from fairscale.nn.checkpoint.checkpoint_activations import checkpoint_wrapper"
   ]
  },
  {
   "cell_type": "code",
   "execution_count": 2,
   "id": "ad1a81b3",
   "metadata": {},
   "outputs": [
    {
     "name": "stderr",
     "output_type": "stream",
     "text": [
      "/home/fa.buzaev/.conda/envs/my_py_env1/lib/python3.9/site-packages/tqdm/auto.py:21: TqdmWarning: IProgress not found. Please update jupyter and ipywidgets. See https://ipywidgets.readthedocs.io/en/stable/user_install.html\n",
      "  from .autonotebook import tqdm as notebook_tqdm\n"
     ]
    }
   ],
   "source": [
    "%load_ext autoreload\n",
    "\n",
    "%autoreload\n",
    "\n",
    "from Models.WeatherGFT import GFT\n",
    "from utils.dataloader_ddp import load_data\n",
    "# from utils.dataloader import load_data\n",
    "from utils.losses import weighted_rmse, weighted_mae, calculate_metrics"
   ]
  },
  {
   "cell_type": "code",
   "execution_count": 19,
   "id": "5e984d51-a43f-40d3-9449-352abc92e428",
   "metadata": {},
   "outputs": [],
   "source": [
    "from torch.cuda.amp import autocast, GradScaler"
   ]
  },
  {
   "cell_type": "code",
   "execution_count": 3,
   "id": "a702e025-d4c9-420d-b486-3696a59f15b9",
   "metadata": {},
   "outputs": [
    {
     "name": "stdout",
     "output_type": "stream",
     "text": [
      "cuda:0\n"
     ]
    }
   ],
   "source": [
    "device = torch.device('cuda:0' if torch.cuda.is_available() else 'cpu')\n",
    "print(device)"
   ]
  },
  {
   "cell_type": "markdown",
   "id": "cb5740d9-82b6-4768-9a78-13b9637405f0",
   "metadata": {},
   "source": [
    "## dataloader"
   ]
  },
  {
   "cell_type": "code",
   "execution_count": 4,
   "id": "e4b95640-f05c-4702-ae37-39ae3c25e124",
   "metadata": {},
   "outputs": [],
   "source": [
    "data_root = '/home/fratnikov/weather_bench/'\n",
    "prediction_horizone = 72\n",
    "\n",
    "batch_size = 8"
   ]
  },
  {
   "cell_type": "code",
   "execution_count": 5,
   "id": "e3a1ce62-61da-45a1-9bd5-a1df70bb6051",
   "metadata": {},
   "outputs": [
    {
     "name": "stderr",
     "output_type": "stream",
     "text": [
      "100%|██████████| 9/9 [05:26<00:00, 36.26s/it]\n"
     ]
    }
   ],
   "source": [
    "dataloader_train, dataloader_vali, dataloader_test, mean, std = load_data(batch_size=batch_size,\n",
    "                                                                          val_batch_size=batch_size,\n",
    "                                                                          data_root=data_root,\n",
    "                                                                          num_workers=10,\n",
    "                                                                          data_split='1_40625', # Разрешение и размерная сетка\n",
    "                                                                          # data_split='5_625',\n",
    "                                                                          data_name='mv_gft', # Название данных\n",
    "                                                                          train_time=['2018', '2018'],\n",
    "                                                                          # train_time=['2015', '2015'],\n",
    "                                                                          # val_time=['2016', '2016'],\n",
    "                                                                          # test_time=['2018', '2018'],\n",
    "                                                                          val_time=None,\n",
    "                                                                          test_time=None,\n",
    "                                                                          idx_in=[0], # Размерность по T\n",
    "                                                                          idx_out=[1, 3, 6],\n",
    "                                                                          step=1,\n",
    "                                                                          levels='all', fp16=True,\n",
    "                                                                          distributed=False, use_augment=False,\n",
    "                                                                          use_prefetcher=False, drop_last=False)"
   ]
  },
  {
   "cell_type": "code",
   "execution_count": null,
   "id": "7a042423-3a31-4826-8d9f-38a534d9f04c",
   "metadata": {},
   "outputs": [],
   "source": []
  },
  {
   "cell_type": "code",
   "execution_count": 6,
   "id": "567769b5-f35b-40ab-bff4-0511bdbacc4b",
   "metadata": {},
   "outputs": [],
   "source": [
    "test_iterator = iter(dataloader_train)\n",
    "\n",
    "x_test, y_test = next(test_iterator)\n",
    "x_test, y_test = x_test.to(device), y_test.to(device)"
   ]
  },
  {
   "cell_type": "code",
   "execution_count": 7,
   "id": "57d971c6-21c7-45f7-8d88-f6e25176f4e5",
   "metadata": {},
   "outputs": [
    {
     "data": {
      "text/plain": [
       "(torch.Size([8, 1, 69, 128, 256]), torch.Size([8, 3, 69, 128, 256]))"
      ]
     },
     "execution_count": 7,
     "metadata": {},
     "output_type": "execute_result"
    }
   ],
   "source": [
    "x_test.shape, y_test.shape"
   ]
  },
  {
   "cell_type": "code",
   "execution_count": 8,
   "id": "cfafe528-af21-41f6-a2a2-a0ddffd206bc",
   "metadata": {},
   "outputs": [],
   "source": [
    "mean = torch.Tensor(mean).unsqueeze(0)  # [1, 1, 69, 1, 1]\n",
    "std = torch.Tensor(std).unsqueeze(0)    # [1, 1, 69, 1, 1]\n",
    "\n",
    "mean = mean.to(device)\n",
    "std = std.to(device)\n",
    "\n",
    "# Денормализация\n",
    "x_test = x_test * std + mean\n",
    "y_test = y_test * std + mean"
   ]
  },
  {
   "cell_type": "markdown",
   "id": "475431e7",
   "metadata": {},
   "source": [
    "Эта фигня нужна была только для того, чтобы взять std и mean, с которыми модель обучалась"
   ]
  },
  {
   "cell_type": "code",
   "execution_count": 9,
   "id": "9edc1783-b635-4ab0-b7da-9ab073c69e1b",
   "metadata": {
    "tags": []
   },
   "outputs": [
    {
     "name": "stdout",
     "output_type": "stream",
     "text": [
      "{'mean': [278.45648193359375, -0.05302836745977402, 0.18636862933635712, 9.984565258491784e-05, 199352.578125, 157621.15625, 133121.75, 115312.953125, 101208.9609375, 89402.0234375, 69971.1171875, 54108.1796875, 40643.0625, 28925.294921875, 13748.3447265625, 7014.361328125, 738.28076171875, 212.49501037597656, 208.39463806152344, 213.29470825195312, 218.02896118164062, 222.7325439453125, 228.83114624023438, 242.09947204589844, 252.915283203125, 261.0999450683594, 267.35784912109375, 274.51837158203125, 277.3168029785156, 280.9718933105469, 6.511358737945557, 26.26487922668457, 26.794998168945312, 35.66500473022461, 47.29899978637695, 53.84512710571289, 52.585174560546875, 50.38509750366211, 51.569740295410156, 54.95396423339844, 69.12255096435547, 79.0954360961914, 78.60669708251953, 5.634260177612305, 10.268631935119629, 13.534361839294434, 14.209449768066406, 13.348237037658691, 11.804636001586914, 8.817828178405762, 6.561363220214844, 4.812414169311523, 3.3435518741607666, 1.4136286973953247, 0.6133455038070679, -0.035336025059223175, 0.004142794758081436, 0.014410842210054398, -0.03666761517524719, -0.04472469910979271, -0.029776500537991524, -0.02294325642287731, -0.01773764006793499, -0.024035273119807243, -0.027187392115592957, 0.020306812599301338, 0.14281414449214935, 0.2034217119216919, 0.18407060205936432], 'std': [21.26502799987793, 5.540960788726807, 4.761945724487305, 0.0003746203728951514, 5879.0048828125, 5505.0498046875, 5836.78125, 5824.04296875, 5531.3349609375, 5086.68798828125, 4150.619140625, 3354.75537109375, 2695.5869140625, 2135.319580078125, 1468.42578125, 1227.1142578125, 1070.5062255859375, 10.27515697479248, 12.518753051757812, 8.939279556274414, 7.190521240234375, 8.528138160705566, 10.713107109069824, 12.701193809509277, 13.071146965026855, 13.4163236618042, 14.779977798461914, 15.602575302124023, 16.112632751464844, 17.155902862548828, 15.529836654663086, 33.44852828979492, 32.2204704284668, 34.101505279541016, 34.4155387878418, 33.870574951171875, 34.0928840637207, 33.47841262817383, 32.64479446411133, 31.3819637298584, 26.295896530151367, 21.468517303466797, 18.219013214111328, 15.318778991699219, 13.517099380493164, 16.030044555664062, 17.66140365600586, 17.955196380615234, 17.109722137451172, 14.334814071655273, 11.9762601852417, 10.325418472290039, 9.158075332641602, 8.179483413696289, 7.930190563201904, 6.134853363037109, 7.040770530700684, 7.472195148468018, 9.56579875946045, 11.872408866882324, 13.374472618103027, 13.33729362487793, 11.227190017700195, 9.178088188171387, 7.799095153808594, 6.8661603927612305, 6.258763790130615, 6.464735984802246, 5.304272651672363]}\n"
     ]
    }
   ],
   "source": [
    "import json\n",
    "\n",
    "with open('example_data/mean_std.json') as f:\n",
    "    d = json.load(f)\n",
    "    print(d)"
   ]
  },
  {
   "cell_type": "code",
   "execution_count": 10,
   "id": "57af95e8-e25e-4658-8d3b-e4097694ee08",
   "metadata": {},
   "outputs": [],
   "source": [
    "for idx in range(x_test.shape[2]):\n",
    "    x_test[:, :, idx] = (x_test[:, :, idx] - d['mean'][idx]) / d['std'][idx]"
   ]
  },
  {
   "cell_type": "code",
   "execution_count": 11,
   "id": "02d6e6c8-f5de-49c4-8427-2d50c26a5713",
   "metadata": {},
   "outputs": [],
   "source": [
    "for idx in range(x_test.shape[2]):\n",
    "    y_test[:, :, idx] = (y_test[:, :, idx] - d['mean'][idx]) / d['std'][idx]"
   ]
  },
  {
   "cell_type": "code",
   "execution_count": 12,
   "id": "d6c5fe63-5c1f-42fd-b282-86599b3de6dd",
   "metadata": {},
   "outputs": [],
   "source": [
    "model = GFT(hidden_dim=256,\n",
    "            encoder_layers=[2, 2, 2],\n",
    "            edcoder_heads=[3, 6, 6],\n",
    "            encoder_scaling_factors=[0.5, 0.5, 1], # [128, 256] --> [64, 128] --> [32, 64] --> [32, 64], that is, patch size = 4 (128/32)\n",
    "            encoder_dim_factors=[-1, 2, 2],\n",
    "\n",
    "            body_layers=[4, 4, 4, 4, 4, 4], # A total of 4x6=24 HybridBlock, corresponding to 6 hours (24x15min) of time evolution\n",
    "            body_heads=[8, 8, 8, 8, 8, 8],\n",
    "            body_scaling_factors=[1, 1, 1, 1, 1, 1],\n",
    "            body_dim_factors=[1, 1, 1, 1, 1, 1],\n",
    "\n",
    "            decoder_layers=[2, 2, 2],\n",
    "            decoder_heads=[6, 6, 3],\n",
    "            decoder_scaling_factors=[1, 2, 1],\n",
    "            decoder_dim_factors=[1, 0.5, 1],\n",
    "\n",
    "            channels=69,\n",
    "            head_dim=128,\n",
    "            window_size=[4,8],\n",
    "            relative_pos_embedding=False,\n",
    "            out_kernel=[2,2],\n",
    "\n",
    "            pde_block_depth=3, # 1 HybridBlock contains 3 PDE kernels, corresponding to 15 minutes (3x300s) of time evolution\n",
    "            block_dt=300, # One PDE kernel corresponds to 300s of time evolution\n",
    "            inverse_time=False).to(device)"
   ]
  },
  {
   "cell_type": "code",
   "execution_count": 13,
   "id": "9a2bb52b-f3a8-48a8-8ea6-3aa4d2768e57",
   "metadata": {
    "tags": []
   },
   "outputs": [
    {
     "name": "stdout",
     "output_type": "stream",
     "text": [
      "[complete loading model]\n"
     ]
    }
   ],
   "source": [
    "if os.path.exists('checkpoints/gft.ckpt'):\n",
    "    ckpt = torch.load('checkpoints/gft.ckpt', map_location=device)\n",
    "    model.load_state_dict(ckpt, strict=True)\n",
    "    print('[complete loading model]')"
   ]
  },
  {
   "cell_type": "code",
   "execution_count": 14,
   "id": "85a6aa95-dc49-4f93-874e-510cfee94d61",
   "metadata": {},
   "outputs": [
    {
     "name": "stdout",
     "output_type": "stream",
     "text": [
      "Количество параметров в модели: 470584357\n"
     ]
    }
   ],
   "source": [
    "# Считаем количество параметров\n",
    "total_params = sum(p.numel() for p in model.parameters())\n",
    "\n",
    "print(f'Количество параметров в модели: {total_params}')"
   ]
  },
  {
   "cell_type": "code",
   "execution_count": 15,
   "id": "db2f8b9c-1590-42aa-953d-2601ff496410",
   "metadata": {},
   "outputs": [],
   "source": [
    "# Извлекаем веса всех слоев\n",
    "weights = []\n",
    "for param in model.parameters():\n",
    "    if param.requires_grad:  # Это означает, что параметр обновляется во время обучения\n",
    "        weights.append(param.data.cpu().numpy())  # Переводим в numpy для удобства\n",
    "\n",
    "# Объединяем все веса в один массив для построения гистограммы\n",
    "all_weights = np.concatenate([w.flatten() for w in weights])"
   ]
  },
  {
   "cell_type": "code",
   "execution_count": 16,
   "id": "894f224c-7561-46d5-a005-b17b53ae301a",
   "metadata": {},
   "outputs": [
    {
     "data": {
      "image/png": "[encoded data removed]",
      "text/plain": [
       "<Figure size 800x600 with 1 Axes>"
      ]
     },
     "metadata": {},
     "output_type": "display_data"
    }
   ],
   "source": [
    "# Строим гистограмму\n",
    "plt.figure(figsize=(8, 6))\n",
    "plt.hist(all_weights, bins=1000, color='blue', alpha=0.7)\n",
    "plt.title('Distribution of Weights in the Model')\n",
    "plt.xlabel('Weight Value')\n",
    "plt.ylabel('Frequency')\n",
    "plt.grid(True)\n",
    "plt.xlim(-0.2, 0.2)\n",
    "plt.show()"
   ]
  },
  {
   "cell_type": "code",
   "execution_count": 40,
   "id": "21262cd1-d0c2-4818-91c5-68fed6759079",
   "metadata": {
    "tags": []
   },
   "outputs": [],
   "source": [
    "with torch.no_grad():\n",
    "    with autocast(dtype=torch.float32):\n",
    "        res = model(x_test)"
   ]
  },
  {
   "cell_type": "code",
   "execution_count": 41,
   "id": "cc35e27f-3253-4d19-91d8-148f20c04169",
   "metadata": {},
   "outputs": [
    {
     "data": {
      "text/plain": [
       "tensor([[[[-2.7814, -2.7817],\n",
       "          [-2.8097, -2.8159]],\n",
       "\n",
       "         [[-0.8771, -0.8638],\n",
       "          [-1.1212, -1.1029]]]], device='cuda:0')"
      ]
     },
     "execution_count": 41,
     "metadata": {},
     "output_type": "execute_result"
    }
   ],
   "source": [
    "res[0, :1, :2, :2, :2]"
   ]
  },
  {
   "cell_type": "code",
   "execution_count": 38,
   "id": "ab740aee-aa55-4d63-b746-57ecc2a489a8",
   "metadata": {},
   "outputs": [],
   "source": [
    "with torch.no_grad():\n",
    "    res = model(x_test)"
   ]
  },
  {
   "cell_type": "code",
   "execution_count": 39,
   "id": "a1b49434-8a05-41ff-9277-e32876375d88",
   "metadata": {},
   "outputs": [
    {
     "data": {
      "text/plain": [
       "tensor([[[[-2.7814, -2.7817],\n",
       "          [-2.8097, -2.8159]],\n",
       "\n",
       "         [[-0.8771, -0.8638],\n",
       "          [-1.1212, -1.1029]]]], device='cuda:0')"
      ]
     },
     "execution_count": 39,
     "metadata": {},
     "output_type": "execute_result"
    }
   ],
   "source": [
    "res[0, :1, :2, :2, :2]"
   ]
  },
  {
   "cell_type": "code",
   "execution_count": 29,
   "id": "ed05e7e0-de01-4d14-9be7-64575306e080",
   "metadata": {},
   "outputs": [
    {
     "data": {
      "text/plain": [
       "torch.Size([8, 3, 69, 128, 256])"
      ]
     },
     "execution_count": 29,
     "metadata": {},
     "output_type": "execute_result"
    }
   ],
   "source": [
    "res.shape"
   ]
  },
  {
   "cell_type": "code",
   "execution_count": null,
   "id": "8e7e8b84-d68c-4fb7-a862-a9f137718b18",
   "metadata": {},
   "outputs": [],
   "source": []
  },
  {
   "cell_type": "code",
   "execution_count": null,
   "id": "ca1bca3b-1316-4486-a905-917310289133",
   "metadata": {},
   "outputs": [],
   "source": []
  },
  {
   "cell_type": "code",
   "execution_count": null,
   "id": "1573a291-76df-4660-892d-854e9ba88f59",
   "metadata": {
    "collapsed": true,
    "jupyter": {
     "outputs_hidden": true
    },
    "tags": []
   },
   "outputs": [],
   "source": [
    "# outputs_full = torch.empty(x_test.shape, device=device)\n",
    "outputs_full = np.empty([8, 72, 3, 69, 128, 256])\n",
    "x_test_ = x_test[:, 0]\n",
    "for j in range(72):\n",
    "    with torch.no_grad():\n",
    "        res = model(x_test_)\n",
    "    outputs_full[:, j] = res.cpu().detach().numpy()\n",
    "    x_test_ = res[:, 0]"
   ]
  },
  {
   "cell_type": "code",
   "execution_count": null,
   "id": "efc50282-2d9d-4180-b10d-0c50ce272b0c",
   "metadata": {
    "collapsed": true,
    "jupyter": {
     "outputs_hidden": true
    },
    "tags": []
   },
   "outputs": [],
   "source": [
    "outputs_every_3 = np.empty([8, 72, 3, 69, 128, 256])  # размерность подгоните под задачу\n",
    "x_test_ = x_test[:, 0]\n",
    "\n",
    "for j in range(72):\n",
    "    with torch.no_grad():\n",
    "        \n",
    "        res = model(x_test_)\n",
    "        if j == 0:\n",
    "            res_3 = res[:, 1]\n",
    "            \n",
    "        # Если j+1 кратно 3, обновляем x_test_ предсказанием с нулевого шага\n",
    "        if (j + 1) % 3 == 0:\n",
    "            x_test_ = res_3\n",
    "            res_3 = res[:, 1]\n",
    "        else:\n",
    "            # Иначе продолжаем предсказывать на основе последнего результата\n",
    "            x_test_ = res[:, 0]\n",
    "        \n",
    "    # Сохраняем предсказание для текущего шага\n",
    "    outputs_every_3[:, j] = res.cpu().detach().numpy()"
   ]
  },
  {
   "cell_type": "code",
   "execution_count": null,
   "id": "d612f03f-fafd-4f3c-abe4-f09bd895beb0",
   "metadata": {
    "collapsed": true,
    "jupyter": {
     "outputs_hidden": true
    },
    "tags": []
   },
   "outputs": [],
   "source": [
    "outputs_every_6 = np.empty([8, 72, 3, 69, 128, 256])  # размерность подгоните под задачу\n",
    "x_test_ = x_test[:, 0]\n",
    "\n",
    "for j in range(72):\n",
    "    with torch.no_grad():\n",
    "        res = model(x_test_)\n",
    "        \n",
    "        if j == 0:\n",
    "            res_3 = res[:, 1]\n",
    "            res_6 = res[:, 2]  # сохраняем предсказание для шестого часа\n",
    "    \n",
    "    # Сохраняем предсказание для текущего шага\n",
    "    outputs_every_6[:, j] = res.cpu().detach().numpy()\n",
    "    \n",
    "    # Обновляем x_test_ в зависимости от текущего часа\n",
    "    if (j + 1) % 6 == 0:        # Каждые 6 часов\n",
    "        x_test_ = res_6\n",
    "        res_6 = res[:, 2]\n",
    "    elif (j + 1) % 3 == 0:       # Каждые 3 часа (если не кратно 6)\n",
    "        x_test_ = res_3\n",
    "        res_3 = res[:, 1]\n",
    "    else:                        # Остальные часы\n",
    "        x_test_ = res[:, 0]"
   ]
  },
  {
   "cell_type": "code",
   "execution_count": null,
   "id": "9ae11051-7efa-4db6-a3b9-f7b98771fc81",
   "metadata": {
    "collapsed": true,
    "jupyter": {
     "outputs_hidden": true
    },
    "tags": []
   },
   "outputs": [],
   "source": [
    "outputs_every_6_2 = np.empty([8, 72, 3, 69, 128, 256], dtype=np.half)  # размерность подгоните под задачу\n",
    "x_test_ = x_test[:, 0]\n",
    "\n",
    "for j in range(72):\n",
    "    with torch.no_grad():\n",
    "        res = model(x_test_)\n",
    "        \n",
    "        if j == 0:\n",
    "            res_6 = res[:, 2]  # сохраняем предсказание для шестого часа\n",
    "    \n",
    "    # Сохраняем предсказание для текущего шага\n",
    "    outputs_every_6_2[:, j] = res.cpu().detach().numpy()\n",
    "    \n",
    "    # Обновляем x_test_ в зависимости от текущего часа\n",
    "    if (j + 1) % 6 == 0:        # Каждые 6 часов\n",
    "        x_test_ = res_6\n",
    "        res_6 = res[:, 2]\n",
    "    else:                        # Остальные часы\n",
    "        x_test_ = res[:, 0]"
   ]
  },
  {
   "cell_type": "code",
   "execution_count": 29,
   "id": "a8d07cdb-cf67-44eb-8b4d-57534c4c3482",
   "metadata": {},
   "outputs": [],
   "source": [
    "def denorm(item, std, mean, idx=0):\n",
    "    mean = mean[idx]\n",
    "    std = std[idx]\n",
    "    item_denorm = item * std + mean\n",
    "    return item_denorm"
   ]
  }
 ],
 "metadata": {
  "kernelspec": {
   "display_name": "Python [.conda-my_py_env1]",
   "language": "python",
   "name": "conda-env-.conda-my_py_env1-py"
  },
  "language_info": {
   "codemirror_mode": {
    "name": "ipython",
    "version": 3
   },
   "file_extension": ".py",
   "mimetype": "text/x-python",
   "name": "python",
   "nbconvert_exporter": "python",
   "pygments_lexer": "ipython3",
   "version": "3.9.19"
  }
 },
 "nbformat": 4,
 "nbformat_minor": 5
}
